{
  "cells": [
    {
      "cell_type": "markdown",
      "metadata": {
        "id": "view-in-github",
        "colab_type": "text"
      },
      "source": [
        "<a href=\"https://colab.research.google.com/github/AngeClementAkazan/Deep-Learning/blob/main/Logistic%20regression%20using%20Tensor%20and%20Keras.ipynb\" target=\"_parent\"><img src=\"https://colab.research.google.com/assets/colab-badge.svg\" alt=\"Open In Colab\"/></a>"
      ]
    },
    {
      "cell_type": "code",
      "execution_count": 1,
      "metadata": {
        "id": "284uJ9PjRkNY"
      },
      "outputs": [],
      "source": [
        "#Load data\n",
        "from sklearn.datasets import load_breast_cancer"
      ]
    },
    {
      "cell_type": "code",
      "execution_count": 2,
      "metadata": {
        "id": "8ziO1vFDudkM"
      },
      "outputs": [],
      "source": [
        "dta=load_breast_cancer()"
      ]
    },
    {
      "cell_type": "code",
      "execution_count": 3,
      "metadata": {
        "colab": {
          "base_uri": "https://localhost:8080/"
        },
        "id": "YedwYZepwNmH",
        "outputId": "e7728325-3f43-4cb5-d5e3-8a1534733e20"
      },
      "outputs": [
        {
          "output_type": "stream",
          "name": "stdout",
          "text": [
            "<class 'sklearn.utils.Bunch'>\n",
            "['malignant' 'benign']\n"
          ]
        },
        {
          "output_type": "execute_result",
          "data": {
            "text/plain": [
              "array(['mean radius', 'mean texture', 'mean perimeter', 'mean area',\n",
              "       'mean smoothness', 'mean compactness', 'mean concavity',\n",
              "       'mean concave points', 'mean symmetry', 'mean fractal dimension',\n",
              "       'radius error', 'texture error', 'perimeter error', 'area error',\n",
              "       'smoothness error', 'compactness error', 'concavity error',\n",
              "       'concave points error', 'symmetry error',\n",
              "       'fractal dimension error', 'worst radius', 'worst texture',\n",
              "       'worst perimeter', 'worst area', 'worst smoothness',\n",
              "       'worst compactness', 'worst concavity', 'worst concave points',\n",
              "       'worst symmetry', 'worst fractal dimension'], dtype='<U23')"
            ]
          },
          "metadata": {},
          "execution_count": 3
        }
      ],
      "source": [
        "dta.keys()\n",
        "print(type(dta))\n",
        "# (N,D)= (569, 30) will be useful to our model\n",
        "dta.data.shape\n",
        "#check the target\n",
        "dta.target # One dimensional array\n",
        "print(dta.target_names) #Check what is one what is zero\n",
        "dta.feature_names"
      ]
    },
    {
      "cell_type": "code",
      "execution_count": 4,
      "metadata": {
        "id": "7MMexXSPxPrJ"
      },
      "outputs": [],
      "source": [
        "from sklearn.model_selection import train_test_split\n",
        "\n",
        "X_train, X_test, y_train, y_test=train_test_split(dta.data,\n",
        "                            dta.target, test_size=0.2)\n"
      ]
    },
    {
      "cell_type": "code",
      "execution_count": 5,
      "metadata": {
        "id": "onb7LiWCxPwJ"
      },
      "outputs": [],
      "source": [
        "from sklearn.preprocessing import StandardScaler\n",
        "\n",
        "scler=StandardScaler()\n",
        "X_train= scler.fit_transform(X_train) #We fit to get  the mean and standard deviation \n",
        "X_test=scler.transform(X_test)"
      ]
    },
    {
      "cell_type": "code",
      "execution_count": 6,
      "metadata": {
        "id": "_uDMoZgwwNsb"
      },
      "outputs": [],
      "source": [
        "#Creating model\n",
        "import tensorflow as tf\n",
        "N,D=X_train.shape\n",
        "model= tf.keras.models.Sequential( [tf.keras.layers.Input(shape=(D,)), #the model an\n",
        "                      tf.keras.layers.Dense(1, activation='sigmoid')]\n",
        "                                 )\n",
        "#Alternative way to do it\n",
        "# model= tf.keras.models.Sequential()\n",
        "# model.add(tf.keras.layers.Dense(output_size, input_shape=(nb_col,), activation =''))"
      ]
    },
    {
      "cell_type": "code",
      "execution_count": 7,
      "metadata": {
        "colab": {
          "base_uri": "https://localhost:8080/"
        },
        "id": "eUyh8Jdn6bvx",
        "outputId": "7635f45e-a1c9-40b1-a0b6-056581d31bd3"
      },
      "outputs": [
        {
          "output_type": "stream",
          "name": "stdout",
          "text": [
            "Epoch 1/200\n",
            "15/15 [==============================] - 1s 12ms/step - loss: 0.8491 - accuracy: 0.4879 - val_loss: 0.8056 - val_accuracy: 0.5351\n",
            "Epoch 2/200\n",
            "15/15 [==============================] - 0s 4ms/step - loss: 0.7608 - accuracy: 0.5604 - val_loss: 0.7351 - val_accuracy: 0.6140\n",
            "Epoch 3/200\n",
            "15/15 [==============================] - 0s 2ms/step - loss: 0.6865 - accuracy: 0.6242 - val_loss: 0.6732 - val_accuracy: 0.6579\n",
            "Epoch 4/200\n",
            "15/15 [==============================] - 0s 3ms/step - loss: 0.6224 - accuracy: 0.6659 - val_loss: 0.6204 - val_accuracy: 0.7281\n",
            "Epoch 5/200\n",
            "15/15 [==============================] - 0s 3ms/step - loss: 0.5677 - accuracy: 0.7077 - val_loss: 0.5741 - val_accuracy: 0.7456\n",
            "Epoch 6/200\n",
            "15/15 [==============================] - 0s 4ms/step - loss: 0.5215 - accuracy: 0.7516 - val_loss: 0.5342 - val_accuracy: 0.7807\n",
            "Epoch 7/200\n",
            "15/15 [==============================] - 0s 3ms/step - loss: 0.4816 - accuracy: 0.7758 - val_loss: 0.4993 - val_accuracy: 0.7982\n",
            "Epoch 8/200\n",
            "15/15 [==============================] - 0s 4ms/step - loss: 0.4469 - accuracy: 0.8066 - val_loss: 0.4689 - val_accuracy: 0.8158\n",
            "Epoch 9/200\n",
            "15/15 [==============================] - 0s 4ms/step - loss: 0.4169 - accuracy: 0.8242 - val_loss: 0.4417 - val_accuracy: 0.8246\n",
            "Epoch 10/200\n",
            "15/15 [==============================] - 0s 5ms/step - loss: 0.3904 - accuracy: 0.8462 - val_loss: 0.4173 - val_accuracy: 0.8421\n",
            "Epoch 11/200\n",
            "15/15 [==============================] - 0s 5ms/step - loss: 0.3668 - accuracy: 0.8571 - val_loss: 0.3967 - val_accuracy: 0.8509\n",
            "Epoch 12/200\n",
            "15/15 [==============================] - 0s 4ms/step - loss: 0.3464 - accuracy: 0.8747 - val_loss: 0.3773 - val_accuracy: 0.8596\n",
            "Epoch 13/200\n",
            "15/15 [==============================] - 0s 3ms/step - loss: 0.3279 - accuracy: 0.8879 - val_loss: 0.3603 - val_accuracy: 0.8596\n",
            "Epoch 14/200\n",
            "15/15 [==============================] - 0s 2ms/step - loss: 0.3112 - accuracy: 0.8945 - val_loss: 0.3449 - val_accuracy: 0.8596\n",
            "Epoch 15/200\n",
            "15/15 [==============================] - 0s 2ms/step - loss: 0.2960 - accuracy: 0.9033 - val_loss: 0.3314 - val_accuracy: 0.8684\n",
            "Epoch 16/200\n",
            "15/15 [==============================] - 0s 3ms/step - loss: 0.2830 - accuracy: 0.9077 - val_loss: 0.3189 - val_accuracy: 0.8684\n",
            "Epoch 17/200\n",
            "15/15 [==============================] - 0s 2ms/step - loss: 0.2709 - accuracy: 0.9143 - val_loss: 0.3077 - val_accuracy: 0.8772\n",
            "Epoch 18/200\n",
            "15/15 [==============================] - 0s 3ms/step - loss: 0.2594 - accuracy: 0.9231 - val_loss: 0.2974 - val_accuracy: 0.8772\n",
            "Epoch 19/200\n",
            "15/15 [==============================] - 0s 2ms/step - loss: 0.2495 - accuracy: 0.9253 - val_loss: 0.2884 - val_accuracy: 0.8772\n",
            "Epoch 20/200\n",
            "15/15 [==============================] - 0s 2ms/step - loss: 0.2405 - accuracy: 0.9297 - val_loss: 0.2802 - val_accuracy: 0.8860\n",
            "Epoch 21/200\n",
            "15/15 [==============================] - 0s 3ms/step - loss: 0.2320 - accuracy: 0.9319 - val_loss: 0.2724 - val_accuracy: 0.8947\n",
            "Epoch 22/200\n",
            "15/15 [==============================] - 0s 3ms/step - loss: 0.2243 - accuracy: 0.9385 - val_loss: 0.2653 - val_accuracy: 0.9035\n",
            "Epoch 23/200\n",
            "15/15 [==============================] - 0s 5ms/step - loss: 0.2169 - accuracy: 0.9429 - val_loss: 0.2589 - val_accuracy: 0.9035\n",
            "Epoch 24/200\n",
            "15/15 [==============================] - 0s 2ms/step - loss: 0.2104 - accuracy: 0.9429 - val_loss: 0.2526 - val_accuracy: 0.9035\n",
            "Epoch 25/200\n",
            "15/15 [==============================] - 0s 3ms/step - loss: 0.2043 - accuracy: 0.9473 - val_loss: 0.2471 - val_accuracy: 0.9035\n",
            "Epoch 26/200\n",
            "15/15 [==============================] - 0s 2ms/step - loss: 0.1985 - accuracy: 0.9473 - val_loss: 0.2417 - val_accuracy: 0.9123\n",
            "Epoch 27/200\n",
            "15/15 [==============================] - 0s 2ms/step - loss: 0.1932 - accuracy: 0.9495 - val_loss: 0.2368 - val_accuracy: 0.9211\n",
            "Epoch 28/200\n",
            "15/15 [==============================] - 0s 2ms/step - loss: 0.1882 - accuracy: 0.9495 - val_loss: 0.2322 - val_accuracy: 0.9211\n",
            "Epoch 29/200\n",
            "15/15 [==============================] - 0s 3ms/step - loss: 0.1837 - accuracy: 0.9516 - val_loss: 0.2283 - val_accuracy: 0.9211\n",
            "Epoch 30/200\n",
            "15/15 [==============================] - 0s 5ms/step - loss: 0.1791 - accuracy: 0.9516 - val_loss: 0.2242 - val_accuracy: 0.9211\n",
            "Epoch 31/200\n",
            "15/15 [==============================] - 0s 3ms/step - loss: 0.1749 - accuracy: 0.9560 - val_loss: 0.2205 - val_accuracy: 0.9211\n",
            "Epoch 32/200\n",
            "15/15 [==============================] - 0s 2ms/step - loss: 0.1711 - accuracy: 0.9560 - val_loss: 0.2170 - val_accuracy: 0.9211\n",
            "Epoch 33/200\n",
            "15/15 [==============================] - 0s 2ms/step - loss: 0.1675 - accuracy: 0.9560 - val_loss: 0.2138 - val_accuracy: 0.9298\n",
            "Epoch 34/200\n",
            "15/15 [==============================] - 0s 2ms/step - loss: 0.1640 - accuracy: 0.9582 - val_loss: 0.2107 - val_accuracy: 0.9298\n",
            "Epoch 35/200\n",
            "15/15 [==============================] - 0s 2ms/step - loss: 0.1610 - accuracy: 0.9582 - val_loss: 0.2076 - val_accuracy: 0.9386\n",
            "Epoch 36/200\n",
            "15/15 [==============================] - 0s 4ms/step - loss: 0.1580 - accuracy: 0.9582 - val_loss: 0.2049 - val_accuracy: 0.9386\n",
            "Epoch 37/200\n",
            "15/15 [==============================] - 0s 3ms/step - loss: 0.1552 - accuracy: 0.9604 - val_loss: 0.2023 - val_accuracy: 0.9386\n",
            "Epoch 38/200\n",
            "15/15 [==============================] - 0s 4ms/step - loss: 0.1525 - accuracy: 0.9604 - val_loss: 0.1996 - val_accuracy: 0.9386\n",
            "Epoch 39/200\n",
            "15/15 [==============================] - 0s 3ms/step - loss: 0.1499 - accuracy: 0.9604 - val_loss: 0.1970 - val_accuracy: 0.9386\n",
            "Epoch 40/200\n",
            "15/15 [==============================] - 0s 3ms/step - loss: 0.1475 - accuracy: 0.9604 - val_loss: 0.1948 - val_accuracy: 0.9386\n",
            "Epoch 41/200\n",
            "15/15 [==============================] - 0s 2ms/step - loss: 0.1450 - accuracy: 0.9604 - val_loss: 0.1927 - val_accuracy: 0.9386\n",
            "Epoch 42/200\n",
            "15/15 [==============================] - 0s 3ms/step - loss: 0.1428 - accuracy: 0.9604 - val_loss: 0.1904 - val_accuracy: 0.9386\n",
            "Epoch 43/200\n",
            "15/15 [==============================] - 0s 2ms/step - loss: 0.1406 - accuracy: 0.9626 - val_loss: 0.1880 - val_accuracy: 0.9474\n",
            "Epoch 44/200\n",
            "15/15 [==============================] - 0s 3ms/step - loss: 0.1385 - accuracy: 0.9648 - val_loss: 0.1861 - val_accuracy: 0.9474\n",
            "Epoch 45/200\n",
            "15/15 [==============================] - 0s 3ms/step - loss: 0.1366 - accuracy: 0.9648 - val_loss: 0.1842 - val_accuracy: 0.9474\n",
            "Epoch 46/200\n",
            "15/15 [==============================] - 0s 2ms/step - loss: 0.1347 - accuracy: 0.9648 - val_loss: 0.1823 - val_accuracy: 0.9474\n",
            "Epoch 47/200\n",
            "15/15 [==============================] - 0s 4ms/step - loss: 0.1329 - accuracy: 0.9670 - val_loss: 0.1807 - val_accuracy: 0.9474\n",
            "Epoch 48/200\n",
            "15/15 [==============================] - 0s 4ms/step - loss: 0.1312 - accuracy: 0.9670 - val_loss: 0.1788 - val_accuracy: 0.9474\n",
            "Epoch 49/200\n",
            "15/15 [==============================] - 0s 3ms/step - loss: 0.1295 - accuracy: 0.9670 - val_loss: 0.1773 - val_accuracy: 0.9474\n",
            "Epoch 50/200\n",
            "15/15 [==============================] - 0s 2ms/step - loss: 0.1279 - accuracy: 0.9692 - val_loss: 0.1756 - val_accuracy: 0.9561\n",
            "Epoch 51/200\n",
            "15/15 [==============================] - 0s 4ms/step - loss: 0.1264 - accuracy: 0.9692 - val_loss: 0.1740 - val_accuracy: 0.9561\n",
            "Epoch 52/200\n",
            "15/15 [==============================] - 0s 4ms/step - loss: 0.1250 - accuracy: 0.9692 - val_loss: 0.1723 - val_accuracy: 0.9561\n",
            "Epoch 53/200\n",
            "15/15 [==============================] - 0s 2ms/step - loss: 0.1235 - accuracy: 0.9692 - val_loss: 0.1709 - val_accuracy: 0.9561\n",
            "Epoch 54/200\n",
            "15/15 [==============================] - 0s 3ms/step - loss: 0.1222 - accuracy: 0.9714 - val_loss: 0.1695 - val_accuracy: 0.9561\n",
            "Epoch 55/200\n",
            "15/15 [==============================] - 0s 2ms/step - loss: 0.1208 - accuracy: 0.9714 - val_loss: 0.1681 - val_accuracy: 0.9561\n",
            "Epoch 56/200\n",
            "15/15 [==============================] - 0s 3ms/step - loss: 0.1195 - accuracy: 0.9714 - val_loss: 0.1668 - val_accuracy: 0.9561\n",
            "Epoch 57/200\n",
            "15/15 [==============================] - 0s 3ms/step - loss: 0.1183 - accuracy: 0.9714 - val_loss: 0.1654 - val_accuracy: 0.9561\n",
            "Epoch 58/200\n",
            "15/15 [==============================] - 0s 3ms/step - loss: 0.1171 - accuracy: 0.9714 - val_loss: 0.1645 - val_accuracy: 0.9561\n",
            "Epoch 59/200\n",
            "15/15 [==============================] - 0s 2ms/step - loss: 0.1159 - accuracy: 0.9736 - val_loss: 0.1636 - val_accuracy: 0.9561\n",
            "Epoch 60/200\n",
            "15/15 [==============================] - 0s 2ms/step - loss: 0.1147 - accuracy: 0.9736 - val_loss: 0.1624 - val_accuracy: 0.9561\n",
            "Epoch 61/200\n",
            "15/15 [==============================] - 0s 2ms/step - loss: 0.1136 - accuracy: 0.9736 - val_loss: 0.1613 - val_accuracy: 0.9561\n",
            "Epoch 62/200\n",
            "15/15 [==============================] - 0s 2ms/step - loss: 0.1126 - accuracy: 0.9736 - val_loss: 0.1602 - val_accuracy: 0.9561\n",
            "Epoch 63/200\n",
            "15/15 [==============================] - 0s 2ms/step - loss: 0.1115 - accuracy: 0.9736 - val_loss: 0.1591 - val_accuracy: 0.9561\n",
            "Epoch 64/200\n",
            "15/15 [==============================] - 0s 2ms/step - loss: 0.1105 - accuracy: 0.9736 - val_loss: 0.1580 - val_accuracy: 0.9561\n",
            "Epoch 65/200\n",
            "15/15 [==============================] - 0s 4ms/step - loss: 0.1095 - accuracy: 0.9736 - val_loss: 0.1571 - val_accuracy: 0.9561\n",
            "Epoch 66/200\n",
            "15/15 [==============================] - 0s 4ms/step - loss: 0.1086 - accuracy: 0.9736 - val_loss: 0.1563 - val_accuracy: 0.9561\n",
            "Epoch 67/200\n",
            "15/15 [==============================] - 0s 5ms/step - loss: 0.1077 - accuracy: 0.9736 - val_loss: 0.1554 - val_accuracy: 0.9561\n",
            "Epoch 68/200\n",
            "15/15 [==============================] - 0s 3ms/step - loss: 0.1067 - accuracy: 0.9736 - val_loss: 0.1544 - val_accuracy: 0.9561\n",
            "Epoch 69/200\n",
            "15/15 [==============================] - 0s 4ms/step - loss: 0.1059 - accuracy: 0.9736 - val_loss: 0.1533 - val_accuracy: 0.9561\n",
            "Epoch 70/200\n",
            "15/15 [==============================] - 0s 4ms/step - loss: 0.1050 - accuracy: 0.9736 - val_loss: 0.1525 - val_accuracy: 0.9561\n",
            "Epoch 71/200\n",
            "15/15 [==============================] - 0s 6ms/step - loss: 0.1042 - accuracy: 0.9736 - val_loss: 0.1518 - val_accuracy: 0.9561\n",
            "Epoch 72/200\n",
            "15/15 [==============================] - 0s 3ms/step - loss: 0.1034 - accuracy: 0.9758 - val_loss: 0.1509 - val_accuracy: 0.9561\n",
            "Epoch 73/200\n",
            "15/15 [==============================] - 0s 4ms/step - loss: 0.1026 - accuracy: 0.9758 - val_loss: 0.1500 - val_accuracy: 0.9561\n",
            "Epoch 74/200\n",
            "15/15 [==============================] - 0s 4ms/step - loss: 0.1019 - accuracy: 0.9758 - val_loss: 0.1492 - val_accuracy: 0.9561\n",
            "Epoch 75/200\n",
            "15/15 [==============================] - 0s 3ms/step - loss: 0.1011 - accuracy: 0.9758 - val_loss: 0.1486 - val_accuracy: 0.9561\n",
            "Epoch 76/200\n",
            "15/15 [==============================] - 0s 4ms/step - loss: 0.1004 - accuracy: 0.9780 - val_loss: 0.1478 - val_accuracy: 0.9561\n",
            "Epoch 77/200\n",
            "15/15 [==============================] - 0s 4ms/step - loss: 0.0997 - accuracy: 0.9780 - val_loss: 0.1470 - val_accuracy: 0.9561\n",
            "Epoch 78/200\n",
            "15/15 [==============================] - 0s 4ms/step - loss: 0.0990 - accuracy: 0.9780 - val_loss: 0.1463 - val_accuracy: 0.9561\n",
            "Epoch 79/200\n",
            "15/15 [==============================] - 0s 3ms/step - loss: 0.0984 - accuracy: 0.9780 - val_loss: 0.1455 - val_accuracy: 0.9561\n",
            "Epoch 80/200\n",
            "15/15 [==============================] - 0s 4ms/step - loss: 0.0977 - accuracy: 0.9780 - val_loss: 0.1449 - val_accuracy: 0.9561\n",
            "Epoch 81/200\n",
            "15/15 [==============================] - 0s 3ms/step - loss: 0.0971 - accuracy: 0.9780 - val_loss: 0.1441 - val_accuracy: 0.9561\n",
            "Epoch 82/200\n",
            "15/15 [==============================] - 0s 3ms/step - loss: 0.0965 - accuracy: 0.9780 - val_loss: 0.1435 - val_accuracy: 0.9561\n",
            "Epoch 83/200\n",
            "15/15 [==============================] - 0s 5ms/step - loss: 0.0959 - accuracy: 0.9802 - val_loss: 0.1430 - val_accuracy: 0.9561\n",
            "Epoch 84/200\n",
            "15/15 [==============================] - 0s 5ms/step - loss: 0.0953 - accuracy: 0.9802 - val_loss: 0.1422 - val_accuracy: 0.9561\n",
            "Epoch 85/200\n",
            "15/15 [==============================] - 0s 3ms/step - loss: 0.0947 - accuracy: 0.9802 - val_loss: 0.1416 - val_accuracy: 0.9561\n",
            "Epoch 86/200\n",
            "15/15 [==============================] - 0s 3ms/step - loss: 0.0941 - accuracy: 0.9802 - val_loss: 0.1410 - val_accuracy: 0.9561\n",
            "Epoch 87/200\n",
            "15/15 [==============================] - 0s 4ms/step - loss: 0.0936 - accuracy: 0.9802 - val_loss: 0.1404 - val_accuracy: 0.9561\n",
            "Epoch 88/200\n",
            "15/15 [==============================] - 0s 3ms/step - loss: 0.0930 - accuracy: 0.9802 - val_loss: 0.1398 - val_accuracy: 0.9561\n",
            "Epoch 89/200\n",
            "15/15 [==============================] - 0s 3ms/step - loss: 0.0925 - accuracy: 0.9802 - val_loss: 0.1391 - val_accuracy: 0.9561\n",
            "Epoch 90/200\n",
            "15/15 [==============================] - 0s 5ms/step - loss: 0.0920 - accuracy: 0.9802 - val_loss: 0.1386 - val_accuracy: 0.9561\n",
            "Epoch 91/200\n",
            "15/15 [==============================] - 0s 5ms/step - loss: 0.0915 - accuracy: 0.9802 - val_loss: 0.1380 - val_accuracy: 0.9561\n",
            "Epoch 92/200\n",
            "15/15 [==============================] - 0s 6ms/step - loss: 0.0909 - accuracy: 0.9802 - val_loss: 0.1375 - val_accuracy: 0.9561\n",
            "Epoch 93/200\n",
            "15/15 [==============================] - 0s 5ms/step - loss: 0.0904 - accuracy: 0.9802 - val_loss: 0.1370 - val_accuracy: 0.9561\n",
            "Epoch 94/200\n",
            "15/15 [==============================] - 0s 9ms/step - loss: 0.0900 - accuracy: 0.9802 - val_loss: 0.1365 - val_accuracy: 0.9561\n",
            "Epoch 95/200\n",
            "15/15 [==============================] - 0s 6ms/step - loss: 0.0894 - accuracy: 0.9824 - val_loss: 0.1359 - val_accuracy: 0.9561\n",
            "Epoch 96/200\n",
            "15/15 [==============================] - 0s 6ms/step - loss: 0.0890 - accuracy: 0.9824 - val_loss: 0.1352 - val_accuracy: 0.9561\n",
            "Epoch 97/200\n",
            "15/15 [==============================] - 0s 4ms/step - loss: 0.0885 - accuracy: 0.9824 - val_loss: 0.1350 - val_accuracy: 0.9561\n",
            "Epoch 98/200\n",
            "15/15 [==============================] - 0s 5ms/step - loss: 0.0880 - accuracy: 0.9846 - val_loss: 0.1344 - val_accuracy: 0.9561\n",
            "Epoch 99/200\n",
            "15/15 [==============================] - 0s 6ms/step - loss: 0.0875 - accuracy: 0.9846 - val_loss: 0.1340 - val_accuracy: 0.9561\n",
            "Epoch 100/200\n",
            "15/15 [==============================] - 0s 5ms/step - loss: 0.0871 - accuracy: 0.9846 - val_loss: 0.1337 - val_accuracy: 0.9561\n",
            "Epoch 101/200\n",
            "15/15 [==============================] - 0s 7ms/step - loss: 0.0867 - accuracy: 0.9846 - val_loss: 0.1332 - val_accuracy: 0.9561\n",
            "Epoch 102/200\n",
            "15/15 [==============================] - 0s 6ms/step - loss: 0.0862 - accuracy: 0.9846 - val_loss: 0.1328 - val_accuracy: 0.9561\n",
            "Epoch 103/200\n",
            "15/15 [==============================] - 0s 5ms/step - loss: 0.0858 - accuracy: 0.9846 - val_loss: 0.1322 - val_accuracy: 0.9561\n",
            "Epoch 104/200\n",
            "15/15 [==============================] - 0s 7ms/step - loss: 0.0854 - accuracy: 0.9846 - val_loss: 0.1319 - val_accuracy: 0.9561\n",
            "Epoch 105/200\n",
            "15/15 [==============================] - 0s 6ms/step - loss: 0.0850 - accuracy: 0.9846 - val_loss: 0.1313 - val_accuracy: 0.9561\n",
            "Epoch 106/200\n",
            "15/15 [==============================] - 0s 5ms/step - loss: 0.0846 - accuracy: 0.9846 - val_loss: 0.1309 - val_accuracy: 0.9561\n",
            "Epoch 107/200\n",
            "15/15 [==============================] - 0s 6ms/step - loss: 0.0842 - accuracy: 0.9846 - val_loss: 0.1306 - val_accuracy: 0.9561\n",
            "Epoch 108/200\n",
            "15/15 [==============================] - 0s 6ms/step - loss: 0.0839 - accuracy: 0.9846 - val_loss: 0.1302 - val_accuracy: 0.9561\n",
            "Epoch 109/200\n",
            "15/15 [==============================] - 0s 4ms/step - loss: 0.0836 - accuracy: 0.9846 - val_loss: 0.1299 - val_accuracy: 0.9649\n",
            "Epoch 110/200\n",
            "15/15 [==============================] - 0s 13ms/step - loss: 0.0832 - accuracy: 0.9868 - val_loss: 0.1295 - val_accuracy: 0.9649\n",
            "Epoch 111/200\n",
            "15/15 [==============================] - 0s 6ms/step - loss: 0.0828 - accuracy: 0.9868 - val_loss: 0.1292 - val_accuracy: 0.9649\n",
            "Epoch 112/200\n",
            "15/15 [==============================] - 0s 4ms/step - loss: 0.0825 - accuracy: 0.9868 - val_loss: 0.1287 - val_accuracy: 0.9561\n",
            "Epoch 113/200\n",
            "15/15 [==============================] - 0s 8ms/step - loss: 0.0821 - accuracy: 0.9868 - val_loss: 0.1285 - val_accuracy: 0.9649\n",
            "Epoch 114/200\n",
            "15/15 [==============================] - 0s 5ms/step - loss: 0.0818 - accuracy: 0.9890 - val_loss: 0.1281 - val_accuracy: 0.9649\n",
            "Epoch 115/200\n",
            "15/15 [==============================] - 0s 5ms/step - loss: 0.0815 - accuracy: 0.9890 - val_loss: 0.1277 - val_accuracy: 0.9561\n",
            "Epoch 116/200\n",
            "15/15 [==============================] - 0s 7ms/step - loss: 0.0811 - accuracy: 0.9890 - val_loss: 0.1273 - val_accuracy: 0.9561\n",
            "Epoch 117/200\n",
            "15/15 [==============================] - 0s 5ms/step - loss: 0.0808 - accuracy: 0.9890 - val_loss: 0.1270 - val_accuracy: 0.9561\n",
            "Epoch 118/200\n",
            "15/15 [==============================] - 0s 5ms/step - loss: 0.0805 - accuracy: 0.9890 - val_loss: 0.1266 - val_accuracy: 0.9561\n",
            "Epoch 119/200\n",
            "15/15 [==============================] - 0s 5ms/step - loss: 0.0801 - accuracy: 0.9890 - val_loss: 0.1260 - val_accuracy: 0.9561\n",
            "Epoch 120/200\n",
            "15/15 [==============================] - 0s 4ms/step - loss: 0.0798 - accuracy: 0.9890 - val_loss: 0.1256 - val_accuracy: 0.9561\n",
            "Epoch 121/200\n",
            "15/15 [==============================] - 0s 6ms/step - loss: 0.0795 - accuracy: 0.9890 - val_loss: 0.1254 - val_accuracy: 0.9649\n",
            "Epoch 122/200\n",
            "15/15 [==============================] - 0s 6ms/step - loss: 0.0792 - accuracy: 0.9890 - val_loss: 0.1251 - val_accuracy: 0.9649\n",
            "Epoch 123/200\n",
            "15/15 [==============================] - 0s 4ms/step - loss: 0.0790 - accuracy: 0.9890 - val_loss: 0.1248 - val_accuracy: 0.9649\n",
            "Epoch 124/200\n",
            "15/15 [==============================] - 0s 5ms/step - loss: 0.0787 - accuracy: 0.9890 - val_loss: 0.1247 - val_accuracy: 0.9561\n",
            "Epoch 125/200\n",
            "15/15 [==============================] - 0s 7ms/step - loss: 0.0784 - accuracy: 0.9890 - val_loss: 0.1244 - val_accuracy: 0.9561\n",
            "Epoch 126/200\n",
            "15/15 [==============================] - 0s 5ms/step - loss: 0.0781 - accuracy: 0.9890 - val_loss: 0.1244 - val_accuracy: 0.9649\n",
            "Epoch 127/200\n",
            "15/15 [==============================] - 0s 9ms/step - loss: 0.0779 - accuracy: 0.9890 - val_loss: 0.1240 - val_accuracy: 0.9649\n",
            "Epoch 128/200\n",
            "15/15 [==============================] - 0s 5ms/step - loss: 0.0776 - accuracy: 0.9890 - val_loss: 0.1237 - val_accuracy: 0.9649\n",
            "Epoch 129/200\n",
            "15/15 [==============================] - 0s 5ms/step - loss: 0.0773 - accuracy: 0.9890 - val_loss: 0.1233 - val_accuracy: 0.9649\n",
            "Epoch 130/200\n",
            "15/15 [==============================] - 0s 6ms/step - loss: 0.0771 - accuracy: 0.9890 - val_loss: 0.1229 - val_accuracy: 0.9649\n",
            "Epoch 131/200\n",
            "15/15 [==============================] - 0s 4ms/step - loss: 0.0768 - accuracy: 0.9890 - val_loss: 0.1227 - val_accuracy: 0.9649\n",
            "Epoch 132/200\n",
            "15/15 [==============================] - 0s 6ms/step - loss: 0.0765 - accuracy: 0.9890 - val_loss: 0.1225 - val_accuracy: 0.9649\n",
            "Epoch 133/200\n",
            "15/15 [==============================] - 0s 6ms/step - loss: 0.0762 - accuracy: 0.9890 - val_loss: 0.1221 - val_accuracy: 0.9649\n",
            "Epoch 134/200\n",
            "15/15 [==============================] - 0s 6ms/step - loss: 0.0760 - accuracy: 0.9890 - val_loss: 0.1220 - val_accuracy: 0.9649\n",
            "Epoch 135/200\n",
            "15/15 [==============================] - 0s 7ms/step - loss: 0.0758 - accuracy: 0.9890 - val_loss: 0.1221 - val_accuracy: 0.9649\n",
            "Epoch 136/200\n",
            "15/15 [==============================] - 0s 4ms/step - loss: 0.0755 - accuracy: 0.9890 - val_loss: 0.1219 - val_accuracy: 0.9649\n",
            "Epoch 137/200\n",
            "15/15 [==============================] - 0s 5ms/step - loss: 0.0753 - accuracy: 0.9890 - val_loss: 0.1215 - val_accuracy: 0.9649\n",
            "Epoch 138/200\n",
            "15/15 [==============================] - 0s 5ms/step - loss: 0.0750 - accuracy: 0.9890 - val_loss: 0.1210 - val_accuracy: 0.9649\n",
            "Epoch 139/200\n",
            "15/15 [==============================] - 0s 5ms/step - loss: 0.0748 - accuracy: 0.9890 - val_loss: 0.1206 - val_accuracy: 0.9649\n",
            "Epoch 140/200\n",
            "15/15 [==============================] - 0s 4ms/step - loss: 0.0746 - accuracy: 0.9890 - val_loss: 0.1202 - val_accuracy: 0.9561\n",
            "Epoch 141/200\n",
            "15/15 [==============================] - 0s 5ms/step - loss: 0.0743 - accuracy: 0.9890 - val_loss: 0.1200 - val_accuracy: 0.9561\n",
            "Epoch 142/200\n",
            "15/15 [==============================] - 0s 12ms/step - loss: 0.0741 - accuracy: 0.9890 - val_loss: 0.1198 - val_accuracy: 0.9649\n",
            "Epoch 143/200\n",
            "15/15 [==============================] - 0s 14ms/step - loss: 0.0739 - accuracy: 0.9890 - val_loss: 0.1193 - val_accuracy: 0.9561\n",
            "Epoch 144/200\n",
            "15/15 [==============================] - 0s 5ms/step - loss: 0.0737 - accuracy: 0.9890 - val_loss: 0.1192 - val_accuracy: 0.9649\n",
            "Epoch 145/200\n",
            "15/15 [==============================] - 0s 13ms/step - loss: 0.0735 - accuracy: 0.9890 - val_loss: 0.1189 - val_accuracy: 0.9649\n",
            "Epoch 146/200\n",
            "15/15 [==============================] - 0s 9ms/step - loss: 0.0733 - accuracy: 0.9890 - val_loss: 0.1188 - val_accuracy: 0.9649\n",
            "Epoch 147/200\n",
            "15/15 [==============================] - 0s 11ms/step - loss: 0.0730 - accuracy: 0.9890 - val_loss: 0.1189 - val_accuracy: 0.9649\n",
            "Epoch 148/200\n",
            "15/15 [==============================] - 0s 8ms/step - loss: 0.0728 - accuracy: 0.9890 - val_loss: 0.1186 - val_accuracy: 0.9649\n",
            "Epoch 149/200\n",
            "15/15 [==============================] - 0s 8ms/step - loss: 0.0726 - accuracy: 0.9890 - val_loss: 0.1184 - val_accuracy: 0.9649\n",
            "Epoch 150/200\n",
            "15/15 [==============================] - 0s 12ms/step - loss: 0.0724 - accuracy: 0.9890 - val_loss: 0.1181 - val_accuracy: 0.9649\n",
            "Epoch 151/200\n",
            "15/15 [==============================] - 0s 12ms/step - loss: 0.0722 - accuracy: 0.9890 - val_loss: 0.1178 - val_accuracy: 0.9649\n",
            "Epoch 152/200\n",
            "15/15 [==============================] - 0s 9ms/step - loss: 0.0720 - accuracy: 0.9890 - val_loss: 0.1178 - val_accuracy: 0.9649\n",
            "Epoch 153/200\n",
            "15/15 [==============================] - 0s 11ms/step - loss: 0.0718 - accuracy: 0.9890 - val_loss: 0.1171 - val_accuracy: 0.9649\n",
            "Epoch 154/200\n",
            "15/15 [==============================] - 0s 10ms/step - loss: 0.0716 - accuracy: 0.9890 - val_loss: 0.1170 - val_accuracy: 0.9649\n",
            "Epoch 155/200\n",
            "15/15 [==============================] - 0s 13ms/step - loss: 0.0714 - accuracy: 0.9890 - val_loss: 0.1168 - val_accuracy: 0.9649\n",
            "Epoch 156/200\n",
            "15/15 [==============================] - 0s 11ms/step - loss: 0.0712 - accuracy: 0.9890 - val_loss: 0.1165 - val_accuracy: 0.9649\n",
            "Epoch 157/200\n",
            "15/15 [==============================] - 0s 16ms/step - loss: 0.0710 - accuracy: 0.9890 - val_loss: 0.1163 - val_accuracy: 0.9649\n",
            "Epoch 158/200\n",
            "15/15 [==============================] - 0s 8ms/step - loss: 0.0708 - accuracy: 0.9890 - val_loss: 0.1162 - val_accuracy: 0.9649\n",
            "Epoch 159/200\n",
            "15/15 [==============================] - 0s 15ms/step - loss: 0.0706 - accuracy: 0.9890 - val_loss: 0.1161 - val_accuracy: 0.9649\n",
            "Epoch 160/200\n",
            "15/15 [==============================] - 0s 10ms/step - loss: 0.0704 - accuracy: 0.9890 - val_loss: 0.1159 - val_accuracy: 0.9649\n",
            "Epoch 161/200\n",
            "15/15 [==============================] - 0s 12ms/step - loss: 0.0703 - accuracy: 0.9890 - val_loss: 0.1158 - val_accuracy: 0.9649\n",
            "Epoch 162/200\n",
            "15/15 [==============================] - 0s 12ms/step - loss: 0.0701 - accuracy: 0.9890 - val_loss: 0.1157 - val_accuracy: 0.9649\n",
            "Epoch 163/200\n",
            "15/15 [==============================] - 0s 11ms/step - loss: 0.0699 - accuracy: 0.9890 - val_loss: 0.1154 - val_accuracy: 0.9649\n",
            "Epoch 164/200\n",
            "15/15 [==============================] - 0s 14ms/step - loss: 0.0697 - accuracy: 0.9890 - val_loss: 0.1152 - val_accuracy: 0.9649\n",
            "Epoch 165/200\n",
            "15/15 [==============================] - 0s 10ms/step - loss: 0.0696 - accuracy: 0.9890 - val_loss: 0.1151 - val_accuracy: 0.9649\n",
            "Epoch 166/200\n",
            "15/15 [==============================] - 0s 14ms/step - loss: 0.0694 - accuracy: 0.9890 - val_loss: 0.1149 - val_accuracy: 0.9649\n",
            "Epoch 167/200\n",
            "15/15 [==============================] - 0s 14ms/step - loss: 0.0692 - accuracy: 0.9890 - val_loss: 0.1147 - val_accuracy: 0.9649\n",
            "Epoch 168/200\n",
            "15/15 [==============================] - 0s 14ms/step - loss: 0.0691 - accuracy: 0.9890 - val_loss: 0.1148 - val_accuracy: 0.9649\n",
            "Epoch 169/200\n",
            "15/15 [==============================] - 0s 13ms/step - loss: 0.0689 - accuracy: 0.9890 - val_loss: 0.1147 - val_accuracy: 0.9649\n",
            "Epoch 170/200\n",
            "15/15 [==============================] - 0s 10ms/step - loss: 0.0688 - accuracy: 0.9890 - val_loss: 0.1143 - val_accuracy: 0.9649\n",
            "Epoch 171/200\n",
            "15/15 [==============================] - 0s 10ms/step - loss: 0.0686 - accuracy: 0.9890 - val_loss: 0.1140 - val_accuracy: 0.9649\n",
            "Epoch 172/200\n",
            "15/15 [==============================] - 0s 10ms/step - loss: 0.0684 - accuracy: 0.9890 - val_loss: 0.1138 - val_accuracy: 0.9649\n",
            "Epoch 173/200\n",
            "15/15 [==============================] - 0s 20ms/step - loss: 0.0683 - accuracy: 0.9890 - val_loss: 0.1136 - val_accuracy: 0.9649\n",
            "Epoch 174/200\n",
            "15/15 [==============================] - 0s 19ms/step - loss: 0.0681 - accuracy: 0.9890 - val_loss: 0.1136 - val_accuracy: 0.9649\n",
            "Epoch 175/200\n",
            "15/15 [==============================] - 0s 16ms/step - loss: 0.0680 - accuracy: 0.9890 - val_loss: 0.1135 - val_accuracy: 0.9649\n",
            "Epoch 176/200\n",
            "15/15 [==============================] - 0s 14ms/step - loss: 0.0678 - accuracy: 0.9890 - val_loss: 0.1132 - val_accuracy: 0.9649\n",
            "Epoch 177/200\n",
            "15/15 [==============================] - 0s 9ms/step - loss: 0.0677 - accuracy: 0.9890 - val_loss: 0.1131 - val_accuracy: 0.9649\n",
            "Epoch 178/200\n",
            "15/15 [==============================] - 0s 16ms/step - loss: 0.0675 - accuracy: 0.9890 - val_loss: 0.1135 - val_accuracy: 0.9649\n",
            "Epoch 179/200\n",
            "15/15 [==============================] - 0s 13ms/step - loss: 0.0673 - accuracy: 0.9890 - val_loss: 0.1135 - val_accuracy: 0.9649\n",
            "Epoch 180/200\n",
            "15/15 [==============================] - 0s 19ms/step - loss: 0.0672 - accuracy: 0.9890 - val_loss: 0.1133 - val_accuracy: 0.9649\n",
            "Epoch 181/200\n",
            "15/15 [==============================] - 0s 9ms/step - loss: 0.0671 - accuracy: 0.9890 - val_loss: 0.1130 - val_accuracy: 0.9649\n",
            "Epoch 182/200\n",
            "15/15 [==============================] - 0s 12ms/step - loss: 0.0669 - accuracy: 0.9890 - val_loss: 0.1127 - val_accuracy: 0.9649\n",
            "Epoch 183/200\n",
            "15/15 [==============================] - 0s 11ms/step - loss: 0.0667 - accuracy: 0.9890 - val_loss: 0.1126 - val_accuracy: 0.9649\n",
            "Epoch 184/200\n",
            "15/15 [==============================] - 0s 10ms/step - loss: 0.0666 - accuracy: 0.9890 - val_loss: 0.1123 - val_accuracy: 0.9649\n",
            "Epoch 185/200\n",
            "15/15 [==============================] - 0s 8ms/step - loss: 0.0665 - accuracy: 0.9890 - val_loss: 0.1121 - val_accuracy: 0.9649\n",
            "Epoch 186/200\n",
            "15/15 [==============================] - 0s 6ms/step - loss: 0.0664 - accuracy: 0.9890 - val_loss: 0.1119 - val_accuracy: 0.9649\n",
            "Epoch 187/200\n",
            "15/15 [==============================] - 0s 10ms/step - loss: 0.0662 - accuracy: 0.9890 - val_loss: 0.1117 - val_accuracy: 0.9649\n",
            "Epoch 188/200\n",
            "15/15 [==============================] - 0s 9ms/step - loss: 0.0662 - accuracy: 0.9890 - val_loss: 0.1118 - val_accuracy: 0.9649\n",
            "Epoch 189/200\n",
            "15/15 [==============================] - 0s 12ms/step - loss: 0.0660 - accuracy: 0.9890 - val_loss: 0.1117 - val_accuracy: 0.9649\n",
            "Epoch 190/200\n",
            "15/15 [==============================] - 0s 9ms/step - loss: 0.0659 - accuracy: 0.9890 - val_loss: 0.1112 - val_accuracy: 0.9649\n",
            "Epoch 191/200\n",
            "15/15 [==============================] - 0s 5ms/step - loss: 0.0657 - accuracy: 0.9890 - val_loss: 0.1109 - val_accuracy: 0.9737\n",
            "Epoch 192/200\n",
            "15/15 [==============================] - 0s 8ms/step - loss: 0.0656 - accuracy: 0.9890 - val_loss: 0.1107 - val_accuracy: 0.9737\n",
            "Epoch 193/200\n",
            "15/15 [==============================] - 0s 12ms/step - loss: 0.0655 - accuracy: 0.9890 - val_loss: 0.1109 - val_accuracy: 0.9737\n",
            "Epoch 194/200\n",
            "15/15 [==============================] - 0s 7ms/step - loss: 0.0654 - accuracy: 0.9890 - val_loss: 0.1105 - val_accuracy: 0.9737\n",
            "Epoch 195/200\n",
            "15/15 [==============================] - 0s 7ms/step - loss: 0.0652 - accuracy: 0.9890 - val_loss: 0.1104 - val_accuracy: 0.9737\n",
            "Epoch 196/200\n",
            "15/15 [==============================] - 0s 12ms/step - loss: 0.0651 - accuracy: 0.9890 - val_loss: 0.1105 - val_accuracy: 0.9737\n",
            "Epoch 197/200\n",
            "15/15 [==============================] - 0s 12ms/step - loss: 0.0650 - accuracy: 0.9890 - val_loss: 0.1105 - val_accuracy: 0.9737\n",
            "Epoch 198/200\n",
            "15/15 [==============================] - 0s 13ms/step - loss: 0.0649 - accuracy: 0.9890 - val_loss: 0.1104 - val_accuracy: 0.9737\n",
            "Epoch 199/200\n",
            "15/15 [==============================] - 0s 11ms/step - loss: 0.0647 - accuracy: 0.9890 - val_loss: 0.1104 - val_accuracy: 0.9737\n",
            "Epoch 200/200\n",
            "15/15 [==============================] - 0s 12ms/step - loss: 0.0646 - accuracy: 0.9890 - val_loss: 0.1101 - val_accuracy: 0.9737\n"
          ]
        }
      ],
      "source": [
        "#Train/fit\n",
        "model.compile(optimizer='adam', loss='binary_crossentropy',metrics=['accuracy'])\n",
        "md_ft= model.fit(X_train, y_train, validation_data= (X_test, y_test), epochs=200)"
      ]
    },
    {
      "cell_type": "code",
      "execution_count": 8,
      "metadata": {
        "colab": {
          "base_uri": "https://localhost:8080/"
        },
        "id": "meA6GEW2874B",
        "outputId": "8acfb073-c34b-49e3-ee01-4999a3003fa4"
      },
      "outputs": [
        {
          "output_type": "stream",
          "name": "stdout",
          "text": [
            "15/15 [==============================] - 0s 3ms/step - loss: 0.0645 - accuracy: 0.9890\n",
            "Train score [0.06449823826551437, 0.9890109896659851]\n",
            "4/4 [==============================] - 0s 4ms/step - loss: 0.1101 - accuracy: 0.9737\n",
            "Test score [0.11012676358222961, 0.9736841917037964]\n"
          ]
        }
      ],
      "source": [
        "#Check the last performances\n",
        "print(\"Train score\", model.evaluate(X_train, y_train))\n",
        "print(\"Test score\", model.evaluate(X_test, y_test))"
      ]
    },
    {
      "cell_type": "code",
      "execution_count": 11,
      "metadata": {
        "colab": {
          "base_uri": "https://localhost:8080/",
          "height": 265
        },
        "id": "IytnnOHw88GA",
        "outputId": "bdeda94f-41fa-40a0-fef8-4156844576d6"
      },
      "outputs": [
        {
          "output_type": "display_data",
          "data": {
            "text/plain": [
              "<Figure size 432x288 with 1 Axes>"
            ],
            "image/png": "[encoded data removed]"
          },
          "metadata": {
            "needs_background": "light"
          }
        }
      ],
      "source": [
        "#Plotting loss and validation loss\n",
        "import matplotlib.pyplot as plt\n",
        "plt.plot(md_ft.history[\"loss\"], label = \"loss\")\n",
        "plt.plot(md_ft.history[\"val_loss\"], label= \"Validation_loss\")\n",
        "plt.legend();\n",
        "\n"
      ]
    },
    {
      "cell_type": "code",
      "source": [
        "plt.plot(md_ft.history[\"accuracy\"], label = \"accuracy\")\n",
        "plt.plot(md_ft.history[\"val_accuracy\"], label= \"Validation accuracy\")\n",
        "plt.legend();"
      ],
      "metadata": {
        "colab": {
          "base_uri": "https://localhost:8080/",
          "height": 265
        },
        "id": "NdIoUdYJDbpp",
        "outputId": "e64c3929-1bb3-4811-d257-77a42ce3fc14"
      },
      "execution_count": 12,
      "outputs": [
        {
          "output_type": "display_data",
          "data": {
            "text/plain": [
              "<Figure size 432x288 with 1 Axes>"
            ],
            "image/png": "[encoded data removed]"
          },
          "metadata": {
            "needs_background": "light"
          }
        }
      ]
    }
  ],
  "metadata": {
    "colab": {
      "provenance": [],
      "authorship_tag": "ABX9TyOQad5XOn4ZbBI0G0dN1j5a",
      "include_colab_link": true
    },
    "kernelspec": {
      "display_name": "Python 3",
      "name": "python3"
    },
    "language_info": {
      "name": "python"
    }
  },
  "nbformat": 4,
  "nbformat_minor": 0
}